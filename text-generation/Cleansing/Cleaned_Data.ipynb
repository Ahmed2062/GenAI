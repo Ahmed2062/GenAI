{
  "cells": [
    {
      "cell_type": "code",
      "execution_count": null,
      "metadata": {
        "colab": {
          "base_uri": "https://localhost:8080/"
        },
        "id": "pmzPdWF7KX2X",
        "outputId": "87051467-12df-4273-f6d5-cf647c569156"
      },
      "outputs": [
        {
          "name": "stdout",
          "output_type": "stream",
          "text": [
            "Original entries: 15680\n",
            "Cleaned entries: 15078\n",
            "Number of duplicates skipped: 602\n",
            "Cleansed data saved to: cleansed.txt\n"
          ]
        }
      ],
      "source": [
        "import json\n",
        "import re\n",
        "import os\n",
        "\n",
        "# Input and output file paths\n",
        "input_file = r\"/content/poems.json\"  # Path to input JSON\n",
        "output_file = \"cleansed.txt\"  # Cleansed data will be saved here\n",
        "\n",
        "# Counter to track duplicates\n",
        "num_duplicates = 0\n",
        "\n",
        "if not os.path.isfile(input_file):\n",
        "    print(f\"Error: The file '{input_file}' does not exist. Please check the path.\")\n",
        "else:\n",
        "    try:\n",
        "        # Load the JSON file\n",
        "        with open(input_file, \"r\", encoding=\"utf-8\") as f:\n",
        "            data = json.load(f)\n",
        "\n",
        "        # Ensure `data` is a list\n",
        "        if not isinstance(data, list):\n",
        "            print(\"Error: The JSON file does not contain a list. Please check the file structure.\")\n",
        "            exit()\n",
        "\n",
        "        # Set to store unique cleansed entries\n",
        "        unique_entries = set()\n",
        "        cleansed_data = []\n",
        "\n",
        "        # Process each dictionary in the list\n",
        "        for entry in data:\n",
        "            if not isinstance(entry, dict):\n",
        "                print(f\"Skipping malformed entry (not a dictionary): {entry}\")\n",
        "                continue\n",
        "\n",
        "            # Extract title and body fields with defaults\n",
        "            title = entry.get(\"title\", \"Untitled\").strip()\n",
        "            body = entry.get(\"body\", \"\").strip()\n",
        "\n",
        "            # Clean the body text to remove excessive blank lines\n",
        "            cleaned_body = re.sub(r'\\n\\s*\\n+', '\\n', body)  # Collapse multiple newlines into one\n",
        "            cleaned_body = cleaned_body.strip()  # Remove leading and trailing spaces\n",
        "\n",
        "            # Combine title and body for uniqueness check\n",
        "            combined_entry = f\"Title: {title}\\nBody:\\n{cleaned_body}\"\n",
        "\n",
        "            # Add to cleansed data if not a duplicate\n",
        "            if combined_entry not in unique_entries:\n",
        "                cleansed_data.append(combined_entry)\n",
        "                unique_entries.add(combined_entry)\n",
        "            else:\n",
        "                num_duplicates += 1  # Increment duplicate counter\n",
        "\n",
        "        # Save cleansed data to the output file\n",
        "        with open(output_file, \"w\", encoding=\"utf-8\") as f:\n",
        "            for item in cleansed_data:\n",
        "                f.write(item + \"\\n\\n\")  # Adds spacing between poems only\n",
        "\n",
        "        # Print cleansing summary\n",
        "        print(f\"Original entries: {len(data)}\")\n",
        "        print(f\"Cleaned entries: {len(cleansed_data)}\")\n",
        "        print(f\"Number of duplicates skipped: {num_duplicates}\")\n",
        "        print(f\"Cleansed data saved to: {output_file}\")\n",
        "\n",
        "    except json.JSONDecodeError:\n",
        "        print(\"Error: Failed to decode JSON. Check the file contents.\")"
      ]
    }
  ],
  "metadata": {
    "colab": {
      "provenance": []
    },
    "kernelspec": {
      "display_name": "Python 3",
      "name": "python3"
    },
    "language_info": {
      "name": "python"
    }
  },
  "nbformat": 4,
  "nbformat_minor": 0
}
