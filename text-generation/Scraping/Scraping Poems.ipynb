{
  "nbformat": 4,
  "nbformat_minor": 0,
  "metadata": {
    "colab": {
      "provenance": [],
      "gpuType": "T4"
    },
    "kernelspec": {
      "name": "python3",
      "display_name": "Python 3"
    },
    "language_info": {
      "name": "python"
    },
    "accelerator": "GPU"
  },
  "cells": [
    {
      "cell_type": "code",
      "execution_count": null,
      "metadata": {
        "colab": {
          "base_uri": "https://localhost:8080/"
        },
        "id": "uTp1gtStdGpK",
        "outputId": "c21b6f99-ec8c-4126-a09d-f9d4b5757287"
      },
      "outputs": [
        {
          "output_type": "stream",
          "name": "stdout",
          "text": [
            "Processing page 1/5...\n",
            "Processing page 2/5...\n",
            "Processing page 3/5...\n",
            "Processing page 4/5...\n",
            "Processing page 5/5...\n",
            "\n",
            "✅ Done! Total poems scraped: 96\n",
            "Saved to poems.json\n"
          ]
        }
      ],
      "source": [
        "import requests\n",
        "from bs4 import BeautifulSoup\n",
        "import json\n",
        "import time\n",
        "\n",
        "poems = []\n",
        "\n",
        "num_pages = 5\n",
        "\n",
        "for i in range(num_pages):\n",
        "    try:\n",
        "        print(f\"Processing page {i + 1}/{num_pages}...\")\n",
        "        url = f\"https://poets.org/poems?page={i}\"\n",
        "        response = requests.get(url)\n",
        "        soup = BeautifulSoup(response.text, \"lxml\")\n",
        "\n",
        "        # Find all poem links on the page\n",
        "        poem_links = soup.find_all('td', class_=\"views-field views-field-title\")\n",
        "\n",
        "        for each in poem_links:\n",
        "            try:\n",
        "                link = each.find('a')\n",
        "                if not link or not link['href']:\n",
        "                    continue\n",
        "\n",
        "                poem_url = \"https://poets.org\" + link['href']\n",
        "                poem_page = requests.get(poem_url)\n",
        "                poem_soup = BeautifulSoup(poem_page.text, 'lxml')\n",
        "\n",
        "                # Extract title\n",
        "                title_tag = poem_soup.find('h1')\n",
        "                if title_tag:\n",
        "                    span_tag = title_tag.find('span', class_='field field--title')\n",
        "                    title = span_tag.text.strip() if span_tag else \"Unknown Title\"\n",
        "                else:\n",
        "                    title = \"Unknown Title\"\n",
        "\n",
        "                # Extract body\n",
        "                body = []\n",
        "                for para in poem_soup.find_all('p'):\n",
        "                    lines = para.find_all('span', class_='long-line')\n",
        "                    if lines:\n",
        "                        stanza = ' '.join(line.text.strip() for line in lines)\n",
        "                        body.append(stanza)\n",
        "\n",
        "                full_text = '\\n'.join(body)\n",
        "                if full_text.strip():  # only save non-empty poems\n",
        "                    poems.append({\"title\": title, \"body\": full_text})\n",
        "\n",
        "            except Exception as e:\n",
        "                print(f\"Error processing poem: {e}\")\n",
        "                continue\n",
        "\n",
        "        # Save progress after each page\n",
        "        with open('poems.json', 'w') as f:\n",
        "            json.dump(poems, f, indent=2)\n",
        "\n",
        "        time.sleep(1)\n",
        "\n",
        "    except Exception as e:\n",
        "        print(f\"Error processing page {i}: {e}\")\n",
        "        continue\n",
        "\n",
        "print(f\"\\n✅ Done! Total poems scraped: {len(poems)}\")\n",
        "print(\"Saved to poems.json\")\n"
      ]
    }
  ]
}